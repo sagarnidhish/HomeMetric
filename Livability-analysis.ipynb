{
 "cells": [
  {
   "cell_type": "markdown",
   "metadata": {},
   "source": [
    "# Livability Analysis\n",
    "This file provides you an example on how you can utilize the livability data from the Livability.db to gain insights about the living environment you want to study."
   ]
  },
  {
   "cell_type": "code",
   "execution_count": null,
   "metadata": {},
   "outputs": [],
   "source": [
    "import sqlite3\n",
    "import json\n",
    "\n",
    "import pandas as pd"
   ]
  },
  {
   "cell_type": "markdown",
   "metadata": {},
   "source": [
    "### Example 1: Compare Livability Conditions between Boston and New York"
   ]
  },
  {
   "cell_type": "code",
   "execution_count": null,
   "metadata": {},
   "outputs": [],
   "source": [
    "# Connect to the SQLite database\n",
    "conn = sqlite3.connect('livability.db')\n",
    "\n",
    "# Load data into a pandas DataFrame\n",
    "query = \"SELECT * FROM livability\"\n",
    "df = pd.read_sql_query(query, conn)\n",
    "\n",
    "# Filter for neighborhoods in New York, NY and Boston, MA\n",
    "ny_neighborhoods = df[df['neighborhood'].str.contains(\"New York, NY\")]\n",
    "boston_neighborhoods = df[df['neighborhood'].str.contains(\"Boston, MA\")]\n",
    "\n",
    "# Calculate summary statistics for each city's neighborhoods\n",
    "ny_stats = ny_neighborhoods.describe()\n",
    "boston_stats = boston_neighborhoods.describe()\n",
    "\n",
    "# Print summary statistics to compare\n",
    "print(\"New York, NY Neighborhoods Summary Statistics:\")\n",
    "print(ny_stats)\n",
    "print(\"\\nBoston, MA Neighborhoods Summary Statistics:\")\n",
    "print(boston_stats)\n",
    "\n",
    "# Close the database connection\n",
    "conn.close()\n"
   ]
  },
  {
   "cell_type": "markdown",
   "metadata": {},
   "source": [
    "### Example 2: Visualization of Amenitites and Cost of Living in Massachusetts Neighborhoods"
   ]
  },
  {
   "cell_type": "code",
   "execution_count": null,
   "metadata": {},
   "outputs": [],
   "source": [
    "import matplotlib.pyplot as plt\n",
    "\n",
    "# Connect to the SQLite database\n",
    "conn = sqlite3.connect('livability.db')\n",
    "\n",
    "# Load data into a pandas DataFrame\n",
    "query = \"SELECT * FROM livability\"\n",
    "df = pd.read_sql_query(query, conn)\n",
    "\n",
    "# Filter for neighborhoods, for example neighborhhods in Massachusetts\n",
    "ma_neighborhoods = df[df['neighborhood'].str.contains(\", MA\")]\n",
    "\n",
    "# Display the filtered DataFrame\n",
    "print(ma_neighborhoods)\n",
    "\n",
    "# Visualization: Comparing Amenities and Cost of Living in MA Neighborhoods\n",
    "plt.figure(figsize=(10, 6))\n",
    "plt.bar(ma_neighborhoods['neighborhood'], ma_neighborhoods['amenities'], label='Amenities')\n",
    "plt.bar(ma_neighborhoods['neighborhood'], ma_neighborhoods['cost_of_living'], bottom=ma_neighborhoods['amenities'], label='Cost of Living')\n",
    "plt.xticks(rotation=45, ha='right')\n",
    "plt.ylabel('Scores')\n",
    "plt.title('Comparison of Amenities and Cost of Living in Massachusetts Neighborhoods')\n",
    "plt.legend()\n",
    "plt.tight_layout()\n",
    "plt.show()\n",
    "\n",
    "# Close the database connection\n",
    "conn.close()\n"
   ]
  },
  {
   "cell_type": "markdown",
   "metadata": {},
   "source": [
    "### Example 3: Correlation Analysis between Livability Factors"
   ]
  },
  {
   "cell_type": "code",
   "execution_count": null,
   "metadata": {},
   "outputs": [],
   "source": [
    "import seaborn as sns\n",
    "import matplotlib.pyplot as plt\n",
    "\n",
    "# Connect to the SQLite database\n",
    "conn = sqlite3.connect('livability.db')\n",
    "\n",
    "# Load data into a pandas DataFrame\n",
    "df = pd.read_sql_query(\"SELECT * FROM livability\", conn)\n",
    "\n",
    "# Select columns of interest for correlation analysis\n",
    "columns_of_interest = ['amenities', 'commute', 'cost_of_living', 'crime', 'employment', 'health_safety', 'housing', 'schools', 'user_ratings', 'overall_livability']\n",
    "sub_df = df[columns_of_interest]\n",
    "\n",
    "# Calculate the correlation matrix\n",
    "correlation_matrix = sub_df.corr()\n",
    "\n",
    "# Print the correlation matrix\n",
    "print(correlation_matrix)\n",
    "\n",
    "# Visualize the correlation matrix using a heatmap\n",
    "plt.figure(figsize=(10, 8))\n",
    "sns.heatmap(correlation_matrix, annot=True, fmt=\".2f\", cmap='coolwarm', cbar=True)\n",
    "plt.title('Correlation Matrix of Livability Factors')\n",
    "plt.show()\n",
    "\n",
    "# Close the database connection\n",
    "conn.close()"
   ]
  }
 ],
 "metadata": {
  "kernelspec": {
   "display_name": "Python 3",
   "language": "python",
   "name": "python3"
  },
  "language_info": {
   "name": "python",
   "version": "3.12.1"
  }
 },
 "nbformat": 4,
 "nbformat_minor": 2
}
